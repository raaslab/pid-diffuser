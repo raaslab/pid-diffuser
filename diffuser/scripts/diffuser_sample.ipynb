{
 "cells": [
  {
   "cell_type": "markdown",
   "metadata": {
    "id": "7Cy2P-c4XFTx"
   },
   "source": [
    "### Setup"
   ]
  },
  {
   "cell_type": "markdown",
   "metadata": {
    "id": "Tj7eyweNapes"
   },
   "source": [
    "apt install requirements"
   ]
  },
  {
   "cell_type": "code",
   "execution_count": 1,
   "metadata": {
    "colab": {
     "base_uri": "https://localhost:8080/"
    },
    "id": "HKMZc5zvfoY1",
    "outputId": "ba9c9c41-6a2b-4254-d890-c9bb05ea6f6d"
   },
   "outputs": [
    {
     "name": "stdout",
     "output_type": "stream",
     "text": [
      "zsh:1: command not found: apt-get\n",
      "zsh:1: command not found: apt-get\n"
     ]
    }
   ],
   "source": [
    "!apt-get install -y \\\n",
    "    libgl1-mesa-dev \\\n",
    "    libgl1-mesa-glx \\\n",
    "    libglew-dev \\\n",
    "    libosmesa6-dev \\\n",
    "    software-properties-common\n",
    "\n",
    "!apt-get install -y patchelf"
   ]
  },
  {
   "cell_type": "markdown",
   "metadata": {
    "id": "ppxv6Mdkalbc"
   },
   "source": [
    "Clone repo and install dependencies"
   ]
  },
  {
   "cell_type": "code",
   "execution_count": 2,
   "metadata": {
    "colab": {
     "base_uri": "https://localhost:8080/",
     "height": 1000
    },
    "id": "mgQA_XN-XGY2",
    "outputId": "33efe14b-2d12-49af-e668-1a7e3bab363e"
   },
   "outputs": [
    {
     "name": "stdout",
     "output_type": "stream",
     "text": [
      "[Errno 2] No such file or directory: '/content'\n",
      "/Users/ktorsh/Documents/diffuser/scripts\n",
      "zsh:1: no matches found: https://www.dropbox.com/s/fe1scd8m2jf7zvj/diffuser.tar?dl=1\n",
      "tar: Error opening archive: Failed to open 'diffuser.zip'\n",
      "[Errno 2] No such file or directory: 'diffuser'\n",
      "/Users/ktorsh/Documents/diffuser/scripts\n",
      "Looking in links: https://download.pytorch.org/whl/torch_stable.html\n",
      "Collecting git+https://github.com/JannerM/d4rl.git@0e84a4d29db3ae501043215ce1d91843929f1949\n",
      "  Cloning https://github.com/JannerM/d4rl.git (to revision 0e84a4d29db3ae501043215ce1d91843929f1949) to /private/var/folders/y4/sr9ppyr93mgbg4rsz_bzc7740000gn/T/pip-req-build-3vue7zzp\n",
      "  Running command git clone -q https://github.com/JannerM/d4rl.git /private/var/folders/y4/sr9ppyr93mgbg4rsz_bzc7740000gn/T/pip-req-build-3vue7zzp\n",
      "  Running command git rev-parse -q --verify 'sha^0e84a4d29db3ae501043215ce1d91843929f1949'\n",
      "  Running command git fetch -q https://github.com/JannerM/d4rl.git 0e84a4d29db3ae501043215ce1d91843929f1949\n",
      "  Running command git checkout -q 0e84a4d29db3ae501043215ce1d91843929f1949\n",
      "Collecting git+https://github.com/aravindr93/mjrl\n",
      "  Cloning https://github.com/aravindr93/mjrl to /private/var/folders/y4/sr9ppyr93mgbg4rsz_bzc7740000gn/T/pip-req-build-1dkqy6su\n",
      "  Running command git clone -q https://github.com/aravindr93/mjrl /private/var/folders/y4/sr9ppyr93mgbg4rsz_bzc7740000gn/T/pip-req-build-1dkqy6su\n",
      "Collecting typed-argument-parser\n",
      "  Downloading typed_argument_parser-1.10.1-py3-none-any.whl (30 kB)\n",
      "Collecting scikit-image==0.17.2\n",
      "  Downloading scikit-image-0.17.2.tar.gz (29.8 MB)\n",
      "\u001b[K     |████████████████████████████████| 29.8 MB 7.0 MB/s eta 0:00:01\n",
      "\u001b[31m    ERROR: Command errored out with exit status 1:\n",
      "     command: /Users/ktorsh/miniconda3/envs/decdiff/bin/python -c 'import sys, setuptools, tokenize; sys.argv[0] = '\"'\"'/private/var/folders/y4/sr9ppyr93mgbg4rsz_bzc7740000gn/T/pip-install-9ynf8_s9/scikit-image_7efcac87ccae44dabe66cdedf7ecd061/setup.py'\"'\"'; __file__='\"'\"'/private/var/folders/y4/sr9ppyr93mgbg4rsz_bzc7740000gn/T/pip-install-9ynf8_s9/scikit-image_7efcac87ccae44dabe66cdedf7ecd061/setup.py'\"'\"';f=getattr(tokenize, '\"'\"'open'\"'\"', open)(__file__);code=f.read().replace('\"'\"'\\r\\n'\"'\"', '\"'\"'\\n'\"'\"');f.close();exec(compile(code, __file__, '\"'\"'exec'\"'\"'))' egg_info --egg-base /private/var/folders/y4/sr9ppyr93mgbg4rsz_bzc7740000gn/T/pip-pip-egg-info-rqawy4z6\n",
      "         cwd: /private/var/folders/y4/sr9ppyr93mgbg4rsz_bzc7740000gn/T/pip-install-9ynf8_s9/scikit-image_7efcac87ccae44dabe66cdedf7ecd061/\n",
      "    Complete output (7 lines):\n",
      "    Traceback (most recent call last):\n",
      "      File \"<string>\", line 1, in <module>\n",
      "      File \"/private/var/folders/y4/sr9ppyr93mgbg4rsz_bzc7740000gn/T/pip-install-9ynf8_s9/scikit-image_7efcac87ccae44dabe66cdedf7ecd061/setup.py\", line 234, in <module>\n",
      "        'build_ext': openmp_build_ext(),\n",
      "      File \"/private/var/folders/y4/sr9ppyr93mgbg4rsz_bzc7740000gn/T/pip-install-9ynf8_s9/scikit-image_7efcac87ccae44dabe66cdedf7ecd061/setup.py\", line 58, in openmp_build_ext\n",
      "        from numpy.distutils.command.build_ext import build_ext\n",
      "    ModuleNotFoundError: No module named 'numpy'\n",
      "    ----------------------------------------\u001b[0m\n",
      "\u001b[33mWARNING: Discarding https://files.pythonhosted.org/packages/54/fd/c1b0bb8f6f12ef9b4ee8d7674dac82cd482886f8b5cd165631efa533e237/scikit-image-0.17.2.tar.gz#sha256=bd954c0588f0f7e81d9763dc95e06950e68247d540476e06cb77bcbcd8c2d8b3 (from https://pypi.org/simple/scikit-image/) (requires-python:>=3.6). Command errored out with exit status 1: python setup.py egg_info Check the logs for full command output.\u001b[0m\n",
      "\u001b[31mERROR: Could not find a version that satisfies the requirement scikit-image==0.17.2\u001b[0m\n",
      "\u001b[31mERROR: No matching distribution found for scikit-image==0.17.2\u001b[0m\n",
      "\u001b[?25hNote: you may need to restart the kernel to use updated packages.\n",
      "\u001b[31mERROR: File \"setup.py\" not found. Directory cannot be installed in editable mode: /Users/ktorsh/Documents/diffuser/scripts\u001b[0m\n",
      "Note: you may need to restart the kernel to use updated packages.\n"
     ]
    }
   ],
   "source": [
    "%cd /content\n",
    "\n",
    "## TODO: use when repo is public\n",
    "# !git clone https://github.com/jannerm/diffuser.git\n",
    "## backup for private repo\n",
    "!curl -L -o diffuser.zip https://www.dropbox.com/s/fe1scd8m2jf7zvj/diffuser.tar?dl=1\n",
    "!tar -xf diffuser.zip\n",
    "## /TODO\n",
    "\n",
    "%cd diffuser\n",
    "%pip install -f https://download.pytorch.org/whl/torch_stable.html \\\n",
    "                typed-argument-parser \\\n",
    "                scikit-image==0.17.2 \\\n",
    "                scikit-video==1.1.11 \\\n",
    "                gitpython \\\n",
    "                einops \\\n",
    "                pillow \\\n",
    "                free-mujoco-py \\\n",
    "                gym \\\n",
    "                git+https://github.com/JannerM/d4rl.git@0e84a4d29db3ae501043215ce1d91843929f1949 \\\n",
    "                git+https://github.com/aravindr93/mjrl\n",
    "\n",
    "%pip install -e ."
   ]
  },
  {
   "cell_type": "code",
   "execution_count": 3,
   "metadata": {
    "colab": {
     "base_uri": "https://localhost:8080/"
    },
    "id": "rFVGxWIuVj5F",
    "outputId": "b0fde36e-b724-4c8c-c40a-3828a72ea943"
   },
   "outputs": [
    {
     "ename": "ModuleNotFoundError",
     "evalue": "No module named 'diffuser'",
     "output_type": "error",
     "traceback": [
      "\u001b[0;31m---------------------------------------------------------------------------\u001b[0m",
      "\u001b[0;31mModuleNotFoundError\u001b[0m                       Traceback (most recent call last)",
      "Cell \u001b[0;32mIn[3], line 2\u001b[0m\n\u001b[1;32m      1\u001b[0m \u001b[38;5;66;03m## cythonize mujoco-py at first import\u001b[39;00m\n\u001b[0;32m----> 2\u001b[0m \u001b[38;5;28;01mimport\u001b[39;00m \u001b[38;5;21;01mdiffuser\u001b[39;00m\u001b[38;5;21;01m.\u001b[39;00m\u001b[38;5;21;01mutils\u001b[39;00m \u001b[38;5;28;01mas\u001b[39;00m \u001b[38;5;21;01mutils\u001b[39;00m\n",
      "\u001b[0;31mModuleNotFoundError\u001b[0m: No module named 'diffuser'"
     ]
    }
   ],
   "source": [
    "## cythonize mujoco-py at first import\n",
    "import diffuser.utils as utils\n",
    "\n",
    "# import importlib\n",
    "# importlib.reload(utils.colab)"
   ]
  },
  {
   "cell_type": "markdown",
   "metadata": {
    "id": "0qKnJbCXssgw"
   },
   "source": [
    "### Conditional sampling"
   ]
  },
  {
   "cell_type": "code",
   "execution_count": null,
   "metadata": {
    "id": "1PWx-SaieF74"
   },
   "outputs": [],
   "source": [
    "class Args:\n",
    "  loadpath = 'logs/azure/hopper-medium-expert-v2/diffusion/H128_T100'\n",
    "  diffusion_epoch = 'latest'\n",
    "  n_samples = 4\n",
    "  device = 'cuda:0'\n",
    "    \n",
    "args = Args()"
   ]
  },
  {
   "cell_type": "markdown",
   "metadata": {
    "id": "_PnSBgUVVnNq"
   },
   "source": [
    "Load diffusion model from disk"
   ]
  },
  {
   "cell_type": "code",
   "execution_count": null,
   "metadata": {
    "colab": {
     "base_uri": "https://localhost:8080/"
    },
    "id": "v-qLxTlKbm7d",
    "outputId": "fbcba444-8f72-4d36-b306-b53273047caa"
   },
   "outputs": [],
   "source": [
    "%cd /content/diffuser\n",
    "\n",
    "diffusion_experiment = utils.load_diffusion(\n",
    "    args.loadpath, epoch=args.diffusion_epoch)\n",
    "\n",
    "dataset = diffusion_experiment.dataset\n",
    "renderer = diffusion_experiment.renderer\n",
    "model = diffusion_experiment.trainer.ema_model"
   ]
  },
  {
   "cell_type": "markdown",
   "metadata": {
    "id": "R0CRaEtNVq8C"
   },
   "source": [
    "Initialize environment"
   ]
  },
  {
   "cell_type": "code",
   "execution_count": null,
   "metadata": {
    "id": "ouwBQMBcBXL7"
   },
   "outputs": [],
   "source": [
    "env = dataset.env\n",
    "obs = env.reset()"
   ]
  },
  {
   "cell_type": "markdown",
   "metadata": {
    "id": "Bw2wObJOVt-l"
   },
   "source": [
    "Run reverse diffusion"
   ]
  },
  {
   "cell_type": "code",
   "execution_count": null,
   "metadata": {
    "colab": {
     "base_uri": "https://localhost:8080/"
    },
    "id": "Y5xB7bx2COcg",
    "outputId": "3f693a7e-fa6c-4c9f-da90-1f255767005c"
   },
   "outputs": [],
   "source": [
    "observations = utils.colab.run_diffusion(\n",
    "    model, dataset, obs, args.n_samples, args.device)\n",
    "print(observations.shape)"
   ]
  },
  {
   "cell_type": "markdown",
   "metadata": {
    "id": "OhHZC48kVxGM"
   },
   "source": [
    "Render the samples"
   ]
  },
  {
   "cell_type": "code",
   "execution_count": null,
   "metadata": {
    "colab": {
     "base_uri": "https://localhost:8080/",
     "height": 221
    },
    "id": "3g8N_n8VRLPs",
    "outputId": "04457496-357d-4700-e722-e06a4944511f"
   },
   "outputs": [],
   "source": [
    "sample = observations[-1]\n",
    "utils.colab.show_sample(renderer, sample)"
   ]
  },
  {
   "cell_type": "markdown",
   "metadata": {
    "id": "iHn4eDk1V0hp"
   },
   "source": [
    "Render the full reverse diffusion process for the first sample.\n",
    "\n",
    "This renders `horizon * n_diffusion_steps` images, so takes a few minutes. Increasing `substep` will speed up the video generation, but cause it to skip frames."
   ]
  },
  {
   "cell_type": "code",
   "execution_count": null,
   "metadata": {
    "colab": {
     "base_uri": "https://localhost:8080/",
     "height": 458
    },
    "id": "FpRFKqP5Q8og",
    "outputId": "9a7e9e8a-acf6-4e80-9375-86ed928db00f"
   },
   "outputs": [],
   "source": [
    "utils.colab.show_diffusion(renderer, observations[:,:1], substep=1)"
   ]
  },
  {
   "cell_type": "code",
   "execution_count": null,
   "metadata": {
    "id": "qYCkHAZAYNsd"
   },
   "outputs": [],
   "source": []
  }
 ],
 "metadata": {
  "accelerator": "GPU",
  "colab": {
   "collapsed_sections": [
    "7Cy2P-c4XFTx"
   ],
   "name": "diffuser-sample.ipynb",
   "provenance": []
  },
  "kernelspec": {
   "display_name": "Python 3 (ipykernel)",
   "language": "python",
   "name": "python3"
  },
  "language_info": {
   "codemirror_mode": {
    "name": "ipython",
    "version": 3
   },
   "file_extension": ".py",
   "mimetype": "text/x-python",
   "name": "python",
   "nbconvert_exporter": "python",
   "pygments_lexer": "ipython3",
   "version": "3.8.20"
  }
 },
 "nbformat": 4,
 "nbformat_minor": 4
}
